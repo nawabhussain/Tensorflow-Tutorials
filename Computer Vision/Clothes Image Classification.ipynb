{
 "cells": [
  {
   "cell_type": "markdown",
   "metadata": {
    "heading_collapsed": true
   },
   "source": [
    "# Introduction"
   ]
  },
  {
   "cell_type": "markdown",
   "metadata": {
    "ExecuteTime": {
     "end_time": "2022-01-30T20:29:31.937798Z",
     "start_time": "2022-01-30T20:29:31.927802Z"
    },
    "hidden": true
   },
   "source": [
    "In this notebook, we will train a neural network using Tensorflow to classify clothing images.\n",
    "[Reference](https://www.tensorflow.org/tutorials/keras/classification)\n",
    "\n",
    "We will be using the Fashion MNIST data in this notebook"
   ]
  },
  {
   "cell_type": "markdown",
   "metadata": {},
   "source": [
    "# Imports"
   ]
  },
  {
   "cell_type": "code",
   "execution_count": 9,
   "metadata": {
    "ExecuteTime": {
     "end_time": "2022-01-31T09:27:57.630159Z",
     "start_time": "2022-01-31T09:27:57.622455Z"
    }
   },
   "outputs": [],
   "source": [
    "import tensorflow as tf\n",
    "import numpy as np\n",
    "import matplotlib.pyplot as plt\n",
    "import pandas as pd"
   ]
  },
  {
   "cell_type": "markdown",
   "metadata": {
    "heading_collapsed": true
   },
   "source": [
    "# Load the data"
   ]
  },
  {
   "cell_type": "code",
   "execution_count": 14,
   "metadata": {
    "ExecuteTime": {
     "end_time": "2022-01-31T09:36:45.628778Z",
     "start_time": "2022-01-31T09:36:45.252678Z"
    },
    "hidden": true
   },
   "outputs": [
    {
     "name": "stdout",
     "output_type": "stream",
     "text": [
      "Training data: (60000, 28, 28)\n",
      "Training data: (10000, 28, 28)\n"
     ]
    }
   ],
   "source": [
    "(train_images, train_labels), (test_images, test_labels) = tf.keras.datasets.fashion_mnist.load_data()\n",
    "print(\"Training data: {}\".format(train_images.shape))\n",
    "print(\"Training data: {}\".format(test_images.shape))"
   ]
  },
  {
   "cell_type": "markdown",
   "metadata": {
    "hidden": true
   },
   "source": [
    "Labels from the API are numerical only, we define class labels for data visualisation"
   ]
  },
  {
   "cell_type": "code",
   "execution_count": 12,
   "metadata": {
    "ExecuteTime": {
     "end_time": "2022-01-31T09:30:14.184074Z",
     "start_time": "2022-01-31T09:30:14.170035Z"
    },
    "hidden": true
   },
   "outputs": [
    {
     "data": {
      "text/html": [
       "<div>\n",
       "<style scoped>\n",
       "    .dataframe tbody tr th:only-of-type {\n",
       "        vertical-align: middle;\n",
       "    }\n",
       "\n",
       "    .dataframe tbody tr th {\n",
       "        vertical-align: top;\n",
       "    }\n",
       "\n",
       "    .dataframe thead th {\n",
       "        text-align: right;\n",
       "    }\n",
       "</style>\n",
       "<table border=\"1\" class=\"dataframe\">\n",
       "  <thead>\n",
       "    <tr style=\"text-align: right;\">\n",
       "      <th></th>\n",
       "      <th>Label</th>\n",
       "      <th>Class</th>\n",
       "    </tr>\n",
       "  </thead>\n",
       "  <tbody>\n",
       "    <tr>\n",
       "      <th>0</th>\n",
       "      <td>0</td>\n",
       "      <td>T-shirt/top</td>\n",
       "    </tr>\n",
       "    <tr>\n",
       "      <th>1</th>\n",
       "      <td>1</td>\n",
       "      <td>Trouser</td>\n",
       "    </tr>\n",
       "    <tr>\n",
       "      <th>2</th>\n",
       "      <td>2</td>\n",
       "      <td>Pullover</td>\n",
       "    </tr>\n",
       "    <tr>\n",
       "      <th>3</th>\n",
       "      <td>3</td>\n",
       "      <td>Dress</td>\n",
       "    </tr>\n",
       "    <tr>\n",
       "      <th>4</th>\n",
       "      <td>4</td>\n",
       "      <td>Coat</td>\n",
       "    </tr>\n",
       "    <tr>\n",
       "      <th>5</th>\n",
       "      <td>5</td>\n",
       "      <td>Sandal</td>\n",
       "    </tr>\n",
       "    <tr>\n",
       "      <th>6</th>\n",
       "      <td>6</td>\n",
       "      <td>Shirt</td>\n",
       "    </tr>\n",
       "    <tr>\n",
       "      <th>7</th>\n",
       "      <td>7</td>\n",
       "      <td>Sneaker</td>\n",
       "    </tr>\n",
       "    <tr>\n",
       "      <th>8</th>\n",
       "      <td>8</td>\n",
       "      <td>Bag</td>\n",
       "    </tr>\n",
       "    <tr>\n",
       "      <th>9</th>\n",
       "      <td>9</td>\n",
       "      <td>Ankle boot</td>\n",
       "    </tr>\n",
       "  </tbody>\n",
       "</table>\n",
       "</div>"
      ],
      "text/plain": [
       "   Label        Class\n",
       "0      0  T-shirt/top\n",
       "1      1      Trouser\n",
       "2      2     Pullover\n",
       "3      3        Dress\n",
       "4      4         Coat\n",
       "5      5       Sandal\n",
       "6      6        Shirt\n",
       "7      7      Sneaker\n",
       "8      8          Bag\n",
       "9      9   Ankle boot"
      ]
     },
     "execution_count": 12,
     "metadata": {},
     "output_type": "execute_result"
    }
   ],
   "source": [
    "class_names = ['T-shirt/top', 'Trouser', 'Pullover', 'Dress', 'Coat','Sandal', 'Shirt', 'Sneaker', 'Bag', 'Ankle boot']\n",
    "pd.DataFrame({'Label': np.unique(train_labels), 'Class': class_names}, index=None)"
   ]
  },
  {
   "cell_type": "markdown",
   "metadata": {
    "ExecuteTime": {
     "end_time": "2022-01-31T09:27:36.637040Z",
     "start_time": "2022-01-31T09:27:36.629043Z"
    },
    "hidden": true
   },
   "source": [
    "Normalising image data between 0 and 1"
   ]
  },
  {
   "cell_type": "code",
   "execution_count": 15,
   "metadata": {
    "ExecuteTime": {
     "end_time": "2022-01-31T09:46:48.426397Z",
     "start_time": "2022-01-31T09:46:48.237356Z"
    },
    "hidden": true
   },
   "outputs": [],
   "source": [
    "train_images = train_images / 255\n",
    "test_images = test_images / 255"
   ]
  },
  {
   "cell_type": "markdown",
   "metadata": {
    "hidden": true
   },
   "source": [
    "Visualising samples from training set"
   ]
  },
  {
   "cell_type": "code",
   "execution_count": 127,
   "metadata": {
    "ExecuteTime": {
     "end_time": "2022-01-31T12:50:10.871353Z",
     "start_time": "2022-01-31T12:50:10.464806Z"
    },
    "hidden": true
   },
   "outputs": [
    {
     "data": {
      "image/png": "[encoded data removed]",
      "text/plain": [
       "<Figure size 1440x1440 with 9 Axes>"
      ]
     },
     "metadata": {},
     "output_type": "display_data"
    }
   ],
   "source": [
    "plt.figure(figsize=(20, 20))\n",
    "for i in range(9):\n",
    "    plt.subplot(3, 9, i + 1)\n",
    "    plt.xticks([])\n",
    "    plt.yticks([])\n",
    "    plt.imshow(train_images[i], cmap=plt.cm.binary)\n",
    "    plt.ylabel(class_names[train_labels[i]])\n",
    "plt.show()"
   ]
  },
  {
   "cell_type": "markdown",
   "metadata": {},
   "source": [
    "# Building the model"
   ]
  },
  {
   "cell_type": "code",
   "execution_count": 180,
   "metadata": {
    "ExecuteTime": {
     "end_time": "2022-01-31T13:19:18.812537Z",
     "start_time": "2022-01-31T13:19:18.777399Z"
    }
   },
   "outputs": [
    {
     "name": "stdout",
     "output_type": "stream",
     "text": [
      "Model: \"sequential_8\"\n",
      "_________________________________________________________________\n",
      "Layer (type)                 Output Shape              Param #   \n",
      "=================================================================\n",
      "flatten_8 (Flatten)          (None, 784)               0         \n",
      "_________________________________________________________________\n",
      "dense_14 (Dense)             (None, 128)               100480    \n",
      "_________________________________________________________________\n",
      "dense_15 (Dense)             (None, 10)                1290      \n",
      "=================================================================\n",
      "Total params: 101,770\n",
      "Trainable params: 101,770\n",
      "Non-trainable params: 0\n",
      "_________________________________________________________________\n"
     ]
    }
   ],
   "source": [
    "model = tf.keras.Sequential([\n",
    "    tf.keras.layers.Flatten(input_shape = (28,28)),\n",
    "    tf.keras.layers.Dense(128, activation = 'relu'),\n",
    "    tf.keras.layers.Dense(10)\n",
    "])\n",
    "model.summary()"
   ]
  },
  {
   "cell_type": "markdown",
   "metadata": {},
   "source": [
    "* **Flatten layer** converts the 2D array to a 1D array (28 x 28 = 784 dimensions)\n",
    "* **Dense layer** deeply connects with its preceding layer, i.e. all neurons of the layer are connected to every neuron of its preceding layer. Neurons in the deep layer receiv output from every neuron of its preceding layer, where neurons of the dense layer perform matrix-vector multiplication.\n",
    "* One Dense layer with **128 nodes**\n",
    "* One Dense layer with **10 nodes** which returns an array of length 10. Each node contains a score indicating the current images' probability of belong to each of the classes "
   ]
  },
  {
   "cell_type": "markdown",
   "metadata": {},
   "source": [
    "## Compliling and Training"
   ]
  },
  {
   "cell_type": "code",
   "execution_count": 181,
   "metadata": {
    "ExecuteTime": {
     "end_time": "2022-01-31T13:19:20.208296Z",
     "start_time": "2022-01-31T13:19:20.197244Z"
    }
   },
   "outputs": [],
   "source": [
    "model.compile(loss=tf.keras.losses.SparseCategoricalCrossentropy(from_logits=True),\n",
    "             optimizer='adam',\n",
    "             metrics = ['accuracy'])"
   ]
  },
  {
   "cell_type": "markdown",
   "metadata": {},
   "source": [
    "* We use **SparseCategoricalCrossentropy** loss function because there are more than two label classes and the labels are integers.\n",
    "* We could use **CategoricalCrossentropy** loss function as well in this case, but the labels would have to be one_hot encoded"
   ]
  },
  {
   "cell_type": "code",
   "execution_count": 182,
   "metadata": {
    "ExecuteTime": {
     "end_time": "2022-01-31T13:19:38.003587Z",
     "start_time": "2022-01-31T13:19:20.526334Z"
    }
   },
   "outputs": [
    {
     "name": "stdout",
     "output_type": "stream",
     "text": [
      "Epoch 1/10\n",
      "1875/1875 [==============================] - 2s 836us/step - loss: 0.6356 - accuracy: 0.7787\n",
      "Epoch 2/10\n",
      "1875/1875 [==============================] - 2s 824us/step - loss: 0.3850 - accuracy: 0.8620\n",
      "Epoch 3/10\n",
      "1875/1875 [==============================] - 2s 832us/step - loss: 0.3433 - accuracy: 0.8740\n",
      "Epoch 4/10\n",
      "1875/1875 [==============================] - 2s 838us/step - loss: 0.3117 - accuracy: 0.8855\n",
      "Epoch 5/10\n",
      "1875/1875 [==============================] - 2s 835us/step - loss: 0.2870 - accuracy: 0.8955\n",
      "Epoch 6/10\n",
      "1875/1875 [==============================] - 2s 833us/step - loss: 0.2841 - accuracy: 0.8947\n",
      "Epoch 7/10\n",
      "1875/1875 [==============================] - 2s 909us/step - loss: 0.2691 - accuracy: 0.8999\n",
      "Epoch 8/10\n",
      "1875/1875 [==============================] - 3s 1ms/step - loss: 0.2572 - accuracy: 0.9052\n",
      "Epoch 9/10\n",
      "1875/1875 [==============================] - 2s 873us/step - loss: 0.2439 - accuracy: 0.9088\n",
      "Epoch 10/10\n",
      "1875/1875 [==============================] - 2s 885us/step - loss: 0.2397 - accuracy: 0.9100\n"
     ]
    },
    {
     "data": {
      "text/plain": [
       "<tensorflow.python.keras.callbacks.History at 0x17c89e92940>"
      ]
     },
     "execution_count": 182,
     "metadata": {},
     "output_type": "execute_result"
    }
   ],
   "source": [
    "model.fit(train_images, train_labels, epochs=10)"
   ]
  },
  {
   "cell_type": "markdown",
   "metadata": {},
   "source": [
    "## Evaluate"
   ]
  },
  {
   "cell_type": "code",
   "execution_count": 183,
   "metadata": {
    "ExecuteTime": {
     "end_time": "2022-01-31T13:19:38.370141Z",
     "start_time": "2022-01-31T13:19:38.005526Z"
    }
   },
   "outputs": [
    {
     "name": "stdout",
     "output_type": "stream",
     "text": [
      "313/313 [==============================] - 0s 658us/step - loss: 0.3437 - accuracy: 0.8809\n",
      "Validation Loss: 0.34370264410972595, Validation Accuracy: 0.8809000253677368\n"
     ]
    }
   ],
   "source": [
    "test_loss, test_accuracy = model.evaluate(test_images, test_labels)\n",
    "print(\"Validation Loss: {}, Validation Accuracy: {}\".format(test_loss, test_accuracy))"
   ]
  },
  {
   "cell_type": "markdown",
   "metadata": {},
   "source": [
    "We use Softmax layer to generate normalised probabilities for better comprehension and interpration"
   ]
  },
  {
   "cell_type": "code",
   "execution_count": 65,
   "metadata": {
    "ExecuteTime": {
     "end_time": "2022-01-31T11:07:38.731007Z",
     "start_time": "2022-01-31T11:07:38.710499Z"
    }
   },
   "outputs": [],
   "source": [
    "probability_model = tf.keras.Sequential([\n",
    "    model,\n",
    "    tf.keras.layers.Softmax()\n",
    "])"
   ]
  },
  {
   "cell_type": "markdown",
   "metadata": {},
   "source": [
    "## Visualisation"
   ]
  },
  {
   "cell_type": "code",
   "execution_count": 159,
   "metadata": {
    "ExecuteTime": {
     "end_time": "2022-01-31T13:02:14.648662Z",
     "start_time": "2022-01-31T13:02:14.640660Z"
    },
    "code_folding": []
   },
   "outputs": [],
   "source": [
    "def plot_image(i, predictions_array, true_label, img):\n",
    "  plt.xticks([])\n",
    "  plt.yticks([])\n",
    "\n",
    "  plt.imshow(img, cmap=plt.cm.binary)\n",
    "\n",
    "  predicted_label = np.argmax(predictions_array)\n",
    "  if predicted_label == true_label:\n",
    "    color = 'green'\n",
    "  else:\n",
    "    color = 'red'\n",
    "\n",
    "  plt.xlabel(\"{} {:2.0f}% ({})\".format(class_names[predicted_label],\n",
    "                                100*np.max(predictions_array),\n",
    "                                class_names[true_label]),\n",
    "                                color=color)\n",
    "\n",
    "def plot_value_array(i, predictions_array, true_label):\n",
    "    plt.xticks(range(10))\n",
    "    plt.yticks([])\n",
    "    thisplot = plt.bar(range(10), predictions_array, color=\"#7d4646\")\n",
    "    plt.ylim([0, 1])\n",
    "    predicted_label = np.argmax(predictions_array)\n",
    "\n",
    "    thisplot[predicted_label].set_color('red')\n",
    "    thisplot[true_label].set_color('green')"
   ]
  },
  {
   "cell_type": "markdown",
   "metadata": {},
   "source": [
    "The Flatten layer expects the input for its layer in the form of (batch, .... channel_last) or (batch, channel_first, ....), so we need to transform each image so that we have the batch size mentioned with the input as well. Our input shapefor each image will then become (1, 28, 28)"
   ]
  },
  {
   "cell_type": "code",
   "execution_count": 160,
   "metadata": {
    "ExecuteTime": {
     "end_time": "2022-01-31T13:02:15.583094Z",
     "start_time": "2022-01-31T13:02:15.369318Z"
    }
   },
   "outputs": [
    {
     "name": "stdout",
     "output_type": "stream",
     "text": [
      "T-shirt/top\n"
     ]
    },
    {
     "data": {
      "image/png": "[encoded data removed]",
      "text/plain": [
       "<Figure size 432x216 with 2 Axes>"
      ]
     },
     "metadata": {
      "needs_background": "light"
     },
     "output_type": "display_data"
    }
   ],
   "source": [
    "i = 120\n",
    "\n",
    "# Prediction\n",
    "image = tf.convert_to_tensor(test_images[i])\n",
    "image_batch = tf.expand_dims(image, [0])\n",
    "prediction = probability_model.predict(image_batch)\n",
    "print(class_names[np.argmax(prediction)])\n",
    "\n",
    "# Plotting\n",
    "plt.figure(figsize=(6,3))\n",
    "plt.subplot(1,2,1)\n",
    "plot_image(i, prediction[0], test_labels[i], test_images[i])\n",
    "plt.subplot(1,2,2)\n",
    "plot_value_array(i, prediction[0],  test_labels[i])\n",
    "plt.show()"
   ]
  },
  {
   "cell_type": "markdown",
   "metadata": {},
   "source": [
    "## Overcoming Overfitting"
   ]
  },
  {
   "cell_type": "markdown",
   "metadata": {},
   "source": [
    "In the first model we notice overfitting, which is evident from the fact that the accuracy on the test dataset is a little less than the accuracy on the training dataset. We use L2 regularization and Dropout to overcome that"
   ]
  },
  {
   "cell_type": "code",
   "execution_count": 210,
   "metadata": {
    "ExecuteTime": {
     "end_time": "2022-01-31T14:15:21.892389Z",
     "start_time": "2022-01-31T14:15:21.862100Z"
    }
   },
   "outputs": [],
   "source": [
    "combined_model = tf.keras.Sequential([\n",
    "        tf.keras.layers.Flatten(input_shape = (28,28)),\n",
    "        tf.keras.layers.Dense(128, activation = 'relu', kernel_regularizer=tf.keras.regularizers.l2(0.0001)),\n",
    "        tf.keras.layers.Dropout(0.2),\n",
    "        tf.keras.layers.Dense(10)\n",
    "])"
   ]
  },
  {
   "cell_type": "code",
   "execution_count": 211,
   "metadata": {
    "ExecuteTime": {
     "end_time": "2022-01-31T14:15:40.895549Z",
     "start_time": "2022-01-31T14:15:22.444628Z"
    }
   },
   "outputs": [
    {
     "name": "stdout",
     "output_type": "stream",
     "text": [
      "Epoch 1/10\n",
      "1875/1875 [==============================] - 2s 983us/step - loss: 0.6974 - accuracy: 0.7658\n",
      "Epoch 2/10\n",
      "1875/1875 [==============================] - 2s 892us/step - loss: 0.4437 - accuracy: 0.8501\n",
      "Epoch 3/10\n",
      "1875/1875 [==============================] - 2s 948us/step - loss: 0.4135 - accuracy: 0.8625\n",
      "Epoch 4/10\n",
      "1875/1875 [==============================] - 2s 978us/step - loss: 0.4044 - accuracy: 0.8683\n",
      "Epoch 5/10\n",
      "1875/1875 [==============================] - 2s 952us/step - loss: 0.3953 - accuracy: 0.8722\n",
      "Epoch 6/10\n",
      "1875/1875 [==============================] - 2s 981us/step - loss: 0.3918 - accuracy: 0.8735\n",
      "Epoch 7/10\n",
      "1875/1875 [==============================] - 2s 999us/step - loss: 0.3830 - accuracy: 0.8772\n",
      "Epoch 8/10\n",
      "1875/1875 [==============================] - 2s 951us/step - loss: 0.3691 - accuracy: 0.8791\n",
      "Epoch 9/10\n",
      "1875/1875 [==============================] - 2s 984us/step - loss: 0.3731 - accuracy: 0.8817\n",
      "Epoch 10/10\n",
      "1875/1875 [==============================] - 2s 951us/step - loss: 0.3689 - accuracy: 0.8816\n"
     ]
    },
    {
     "data": {
      "text/plain": [
       "<tensorflow.python.keras.callbacks.History at 0x17c8b0a8a00>"
      ]
     },
     "execution_count": 211,
     "metadata": {},
     "output_type": "execute_result"
    }
   ],
   "source": [
    "combined_model.compile(loss=tf.keras.losses.SparseCategoricalCrossentropy(from_logits=True),\n",
    "             optimizer='adam',\n",
    "             metrics = ['accuracy'])\n",
    "combined_model.fit(train_images, train_labels, epochs=10)"
   ]
  },
  {
   "cell_type": "code",
   "execution_count": 212,
   "metadata": {
    "ExecuteTime": {
     "end_time": "2022-01-31T14:15:41.343336Z",
     "start_time": "2022-01-31T14:15:40.897567Z"
    }
   },
   "outputs": [
    {
     "name": "stdout",
     "output_type": "stream",
     "text": [
      "313/313 [==============================] - 0s 898us/step - loss: 0.3981 - accuracy: 0.8762\n"
     ]
    },
    {
     "data": {
      "text/plain": [
       "[0.3980819284915924, 0.8762000203132629]"
      ]
     },
     "execution_count": 212,
     "metadata": {},
     "output_type": "execute_result"
    }
   ],
   "source": [
    "combined_model.evaluate(test_images, test_labels)"
   ]
  },
  {
   "cell_type": "code",
   "execution_count": null,
   "metadata": {},
   "outputs": [],
   "source": []
  }
 ],
 "metadata": {
  "kernelspec": {
   "display_name": "Python 3",
   "language": "python",
   "name": "python3"
  },
  "language_info": {
   "codemirror_mode": {
    "name": "ipython",
    "version": 3
   },
   "file_extension": ".py",
   "mimetype": "text/x-python",
   "name": "python",
   "nbconvert_exporter": "python",
   "pygments_lexer": "ipython3",
   "version": "3.6.8"
  }
 },
 "nbformat": 4,
 "nbformat_minor": 4
}
